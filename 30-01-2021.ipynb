{
 "cells": [
  {
   "cell_type": "markdown",
   "metadata": {},
   "source": [
    "# 30-01-2021"
   ]
  },
  {
   "cell_type": "code",
   "execution_count": 52,
   "metadata": {},
   "outputs": [],
   "source": [
    "class Dog():\n",
    "    # characteristics/attributes\n",
    "    tail = \"terhi\"\n",
    "    def __init__(self,name,age,bread,color):    # initializer fn\n",
    "        self.dog_name = name   # self basically object ka name hota ha\n",
    "        self.dog_age = age\n",
    "        self.dog_bread = bread\n",
    "        self.dog_color = color\n",
    "        print(\"Dog create ho gya ha\")\n",
    "    \n",
    "        \n",
    "    #name=\"Tommy\"\n",
    "    #age= 4\n",
    "    #bread=\"German\"\n",
    "    #color = \"Brown\"\n",
    "    #Behaviour/Action\n",
    "    def bark(self\n",
    "            ):\n",
    "        pass\n",
    "    def walk():\n",
    "        pass\n",
    "    def rollover():\n",
    "        pass\n",
    "    def bite():\n",
    "        pass"
   ]
  },
  {
   "cell_type": "code",
   "execution_count": 53,
   "metadata": {},
   "outputs": [
    {
     "name": "stdout",
     "output_type": "stream",
     "text": [
      "Dog create ho gya ha\n"
     ]
    }
   ],
   "source": [
    "#create object\n",
    "dog1 = Dog('Tommy',4,'German','Black')     # yahan initializer khud ba khud call ho jaay ga"
   ]
  },
  {
   "cell_type": "code",
   "execution_count": 54,
   "metadata": {},
   "outputs": [
    {
     "data": {
      "text/plain": [
       "'Tommy'"
      ]
     },
     "execution_count": 54,
     "metadata": {},
     "output_type": "execute_result"
    }
   ],
   "source": [
    "dog1.dog_name"
   ]
  },
  {
   "cell_type": "code",
   "execution_count": 55,
   "metadata": {},
   "outputs": [
    {
     "data": {
      "text/plain": [
       "'German'"
      ]
     },
     "execution_count": 55,
     "metadata": {},
     "output_type": "execute_result"
    }
   ],
   "source": [
    "dog1.dog_bread"
   ]
  },
  {
   "cell_type": "code",
   "execution_count": 56,
   "metadata": {},
   "outputs": [
    {
     "data": {
      "text/plain": [
       "'terhi'"
      ]
     },
     "execution_count": 56,
     "metadata": {},
     "output_type": "execute_result"
    }
   ],
   "source": [
    "dog1.dog_age\n",
    "dog1.tail"
   ]
  },
  {
   "cell_type": "code",
   "execution_count": 23,
   "metadata": {},
   "outputs": [
    {
     "ename": "TypeError",
     "evalue": "walk() takes 0 positional arguments but 1 was given",
     "output_type": "error",
     "traceback": [
      "\u001b[1;31m---------------------------------------------------------------------------\u001b[0m",
      "\u001b[1;31mTypeError\u001b[0m                                 Traceback (most recent call last)",
      "\u001b[1;32m<ipython-input-23-5de40710d0b7>\u001b[0m in \u001b[0;36m<module>\u001b[1;34m\u001b[0m\n\u001b[1;32m----> 1\u001b[1;33m \u001b[0mdog1\u001b[0m\u001b[1;33m.\u001b[0m\u001b[0mwalk\u001b[0m\u001b[1;33m(\u001b[0m\u001b[1;33m)\u001b[0m\u001b[1;33m\u001b[0m\u001b[1;33m\u001b[0m\u001b[0m\n\u001b[0m",
      "\u001b[1;31mTypeError\u001b[0m: walk() takes 0 positional arguments but 1 was given"
     ]
    }
   ],
   "source": [
    "dog1.walk()"
   ]
  },
  {
   "cell_type": "code",
   "execution_count": 24,
   "metadata": {},
   "outputs": [
    {
     "name": "stdout",
     "output_type": "stream",
     "text": [
      "Dog create ho gya ha\n"
     ]
    }
   ],
   "source": [
    "dog2 = Dog(\"Rainbow\",1,\"Street Dog\",\"White\")"
   ]
  },
  {
   "cell_type": "code",
   "execution_count": 16,
   "metadata": {},
   "outputs": [
    {
     "data": {
      "text/plain": [
       "'Rainbow'"
      ]
     },
     "execution_count": 16,
     "metadata": {},
     "output_type": "execute_result"
    }
   ],
   "source": [
    "dog2.dog_name"
   ]
  },
  {
   "cell_type": "code",
   "execution_count": 25,
   "metadata": {},
   "outputs": [
    {
     "name": "stdout",
     "output_type": "stream",
     "text": [
      "Dog create ho gya ha\n"
     ]
    }
   ],
   "source": [
    "dog3 = Dog(\"Cocoo\",2,\"Shephard\",\"Brown\")"
   ]
  },
  {
   "cell_type": "code",
   "execution_count": 27,
   "metadata": {},
   "outputs": [
    {
     "data": {
      "text/plain": [
       "'Cocoo'"
      ]
     },
     "execution_count": 27,
     "metadata": {},
     "output_type": "execute_result"
    }
   ],
   "source": [
    "dog3.dog_name"
   ]
  },
  {
   "cell_type": "code",
   "execution_count": 28,
   "metadata": {},
   "outputs": [
    {
     "data": {
      "text/plain": [
       "2"
      ]
     },
     "execution_count": 28,
     "metadata": {},
     "output_type": "execute_result"
    }
   ],
   "source": [
    "dog3.dog_age"
   ]
  },
  {
   "cell_type": "code",
   "execution_count": 29,
   "metadata": {},
   "outputs": [
    {
     "data": {
      "text/plain": [
       "'Brown'"
      ]
     },
     "execution_count": 29,
     "metadata": {},
     "output_type": "execute_result"
    }
   ],
   "source": [
    "dog3.dog_color"
   ]
  },
  {
   "cell_type": "code",
   "execution_count": 31,
   "metadata": {},
   "outputs": [
    {
     "data": {
      "text/plain": [
       "'Shephard'"
      ]
     },
     "execution_count": 31,
     "metadata": {},
     "output_type": "execute_result"
    }
   ],
   "source": [
    "dog3.dog_bread"
   ]
  },
  {
   "cell_type": "code",
   "execution_count": 47,
   "metadata": {},
   "outputs": [],
   "source": [
    "class Human():\n",
    "    # characteristics/attributes\n",
    "    def __init__(self,name,age,blood_group):    # initializer fn\n",
    "        self.name = name   # self basically object ka name hota ha\n",
    "        self.age = age     # instance variable or object variable\n",
    "        self.blood_group = blood_group\n",
    "        print(\"Human create ho gya ha\")\n",
    "    def gentle(self):\n",
    "        print(f\"{self.name} is a gentle man\")\n",
    "        print(f\"{self.name} is {self.age} years old! \")\n",
    "        print(f\"{self.name} blood group is {self.blood_group} \")\n",
    "        "
   ]
  },
  {
   "cell_type": "code",
   "execution_count": 48,
   "metadata": {},
   "outputs": [
    {
     "name": "stdout",
     "output_type": "stream",
     "text": [
      "Human create ho gya ha\n"
     ]
    }
   ],
   "source": [
    "human1 = Human(\"Ahmed\",23,\"A-positive\")"
   ]
  },
  {
   "cell_type": "code",
   "execution_count": 49,
   "metadata": {},
   "outputs": [
    {
     "name": "stdout",
     "output_type": "stream",
     "text": [
      "Ahmed is a gentle man\n",
      "Ahmed is 23 years old! \n",
      "Ahmed blood group is A-positive \n"
     ]
    }
   ],
   "source": [
    "human1.gentle()"
   ]
  },
  {
   "cell_type": "code",
   "execution_count": 50,
   "metadata": {},
   "outputs": [
    {
     "name": "stdout",
     "output_type": "stream",
     "text": [
      "Human create ho gya ha\n"
     ]
    }
   ],
   "source": [
    "human2 = Human(\"Ali\",24,\"A-positive\")"
   ]
  },
  {
   "cell_type": "code",
   "execution_count": 51,
   "metadata": {},
   "outputs": [
    {
     "name": "stdout",
     "output_type": "stream",
     "text": [
      "Ali is a gentle man\n",
      "Ali is 24 years old! \n",
      "Ali blood group is A-positive \n"
     ]
    }
   ],
   "source": [
    "human2.gentle()"
   ]
  },
  {
   "cell_type": "code",
   "execution_count": 57,
   "metadata": {},
   "outputs": [],
   "source": [
    "class Student():\n",
    "    # characteristics/attributes\n",
    "    def __init__(self,name,age,roll_no):    # initializer fn\n",
    "        self.name = name   # self basically object ka name hota ha\n",
    "        self.age = age     # instance variable or object variable\n",
    "        self.roll_no = roll_no\n",
    "        print(\"Student create ho gya ha\")\n",
    "    def char(self):\n",
    "        print(f\"{self.name} is a Student\")\n",
    "        print(f\"{self.name} is {self.age} years old! \")\n",
    "        print(f\"{self.name} rol_no is {self.roll_no} \")"
   ]
  },
  {
   "cell_type": "code",
   "execution_count": 58,
   "metadata": {},
   "outputs": [
    {
     "name": "stdout",
     "output_type": "stream",
     "text": [
      "Student create ho gya ha\n"
     ]
    }
   ],
   "source": [
    "student1 = Student(\"Aahad\",22,\"110\")"
   ]
  },
  {
   "cell_type": "code",
   "execution_count": 59,
   "metadata": {},
   "outputs": [
    {
     "name": "stdout",
     "output_type": "stream",
     "text": [
      "Aahad is a Student\n",
      "Aahad is 22 years old! \n",
      "Aahad rol_no is 110 \n"
     ]
    }
   ],
   "source": [
    "student1.char()"
   ]
  },
  {
   "cell_type": "code",
   "execution_count": 60,
   "metadata": {},
   "outputs": [],
   "source": [
    "class Employee():\n",
    "    # characteristics/attributes\n",
    "    def __init__(self,name,designation,age):    # initializer fn\n",
    "        self.name = name   # self basically object ka name hota ha\n",
    "        self.designation = designation    # instance variable or object variable\n",
    "        self.age = age\n",
    "        print(\"Employee create ho gya ha\")\n",
    "    def emp_char(self):\n",
    "        print(f\"{self.name} is a employee\")\n",
    "        print(f\"{self.name} is a {self.designation}\")\n",
    "        print(f\"{self.name} is {self.age} years old! \")"
   ]
  },
  {
   "cell_type": "code",
   "execution_count": 61,
   "metadata": {},
   "outputs": [
    {
     "name": "stdout",
     "output_type": "stream",
     "text": [
      "Employee create ho gya ha\n"
     ]
    }
   ],
   "source": [
    "employee1=Employee(\"Ebad\",\"Manager\",30)"
   ]
  },
  {
   "cell_type": "code",
   "execution_count": 62,
   "metadata": {},
   "outputs": [
    {
     "name": "stdout",
     "output_type": "stream",
     "text": [
      "Ebad is a employee\n",
      "Ebad is a Manager\n",
      "Ebad is 30 years old! \n"
     ]
    }
   ],
   "source": [
    "employee1.emp_char()"
   ]
  },
  {
   "cell_type": "code",
   "execution_count": null,
   "metadata": {},
   "outputs": [],
   "source": []
  }
 ],
 "metadata": {
  "kernelspec": {
   "display_name": "Python 3",
   "language": "python",
   "name": "python3"
  },
  "language_info": {
   "codemirror_mode": {
    "name": "ipython",
    "version": 3
   },
   "file_extension": ".py",
   "mimetype": "text/x-python",
   "name": "python",
   "nbconvert_exporter": "python",
   "pygments_lexer": "ipython3",
   "version": "3.8.5"
  }
 },
 "nbformat": 4,
 "nbformat_minor": 4
}
