{
 "cells": [
  {
   "cell_type": "code",
   "execution_count": 14,
   "metadata": {},
   "outputs": [
    {
     "name": "stdout",
     "output_type": "stream",
     "text": [
      "i am nabeel and my age is22 and i am currenlt walking\n"
     ]
    },
    {
     "data": {
      "text/plain": [
       "2"
      ]
     },
     "execution_count": 14,
     "metadata": {},
     "output_type": "execute_result"
    }
   ],
   "source": [
    "class human():\n",
    "    legs=2  #->instac variable\n",
    "    \n",
    "    def __init__(self,name,age,gender):\n",
    "        self.name=name\n",
    "        self.age=age\n",
    "        self.gender=gender\n",
    "    def walk(self):\n",
    "        print(f\"i am {self.name} and my age is{self.age} and i am currenlt walking\")\n",
    "    def eat(self):\n",
    "        print(f\"my name is {self.name} and am eating\")\n",
    "   \n",
    "human1 = human(\"nabeel\",22,\"male\")\n",
    "human1.walk()\n",
    "human1.legs # is say sab human k lea value legs=2"
   ]
  },
  {
   "cell_type": "code",
   "execution_count": 13,
   "metadata": {},
   "outputs": [
    {
     "name": "stdout",
     "output_type": "stream",
     "text": [
      "i am nabeel and my age is20 and i am currenlt walking\n"
     ]
    }
   ],
   "source": [
    "class human():\n",
    "    def __init__(self):\n",
    "        pass\n",
    "#         self.name\n",
    "#         self.age\n",
    "#         self.gender\n",
    "    def walk(self,name,age):\n",
    "        print(f\"i am {name} and my age is{age} and i am currenlt walking\")\n",
    "    def eat(self):\n",
    "        print(f\"my name is {self.name} and am eating\")\n",
    "   \n",
    "human1 = human()\n",
    "human1.walk(\"nabeel\",20)"
   ]
  },
  {
   "cell_type": "code",
   "execution_count": 22,
   "metadata": {},
   "outputs": [
    {
     "name": "stdout",
     "output_type": "stream",
     "text": [
      "car name is Farari and car model is A50 and current speed is 0\n",
      "current speed 0\n",
      "current speed 60\n",
      "car name is Farari and car model is A50 and current speed is 60\n",
      "car name is Farari and car model is A50 and current speed is 110\n"
     ]
    }
   ],
   "source": [
    "# get set and private in py is may keyword ni hota private ka\n",
    "# private ki jaga set kea hay values ko incapsulation hay\n",
    "class Car():\n",
    "    def __init__(self,name,model):\n",
    "        self.name=name\n",
    "        self.model=model\n",
    "        self.speed=0\n",
    "    def car_detail(self):\n",
    "        print(f\"car name is {self.name} and car model is {self.model} and current speed is {self.speed}\")\n",
    "    def get_car_speed(self):\n",
    "        print(f\"current speed {str(self.speed)}\")\n",
    "    def set_current_speed(self,newspeed):\n",
    "        self.speed=newspeed\n",
    "    def update_speed(self,newspeed):\n",
    "        self.speed+=newspeed\n",
    "        \n",
    "        \n",
    "    \n",
    "car1=Car(\"Farari\",\"A50\")\n",
    "car1.car_detail()\n",
    "car1.get_car_speed()\n",
    "car1.set_current_speed(60)\n",
    "car1.get_car_speed()\n",
    "car1.car_detail()\n",
    "car1.update_speed(50)\n",
    "car1.car_detail()\n",
    "        "
   ]
  },
  {
   "cell_type": "markdown",
   "metadata": {},
   "source": [
    "# Inharitance"
   ]
  },
  {
   "cell_type": "code",
   "execution_count": 23,
   "metadata": {},
   "outputs": [
    {
     "name": "stdout",
     "output_type": "stream",
     "text": [
      "car name is BMW and car model is 2001 and current speed is 0\n"
     ]
    }
   ],
   "source": [
    "# inharitance kisi bani hoe class k code ko reuse krna ( is-a) relation check krtay hay\n",
    "# multiple inharitance allow in python\n",
    "# (car) is trha inhari hota hay\n",
    "# super(). __init__(value,value2) is say value pass hoti hay 2no imp hay ya wala kam\n",
    "class Car():\n",
    "    \"\"\"this class use to creat the objkect of differte cars\"\"\"\n",
    "    def __init__(self,name,model):\n",
    "        self.name=name\n",
    "        self.model=model\n",
    "        self.speed=0\n",
    "\n",
    "    def car_detail(self):\n",
    "        print(f\"car name is {self.name} and car model is {self.model} and current speed is {self.speed}\") \n",
    "    \n",
    "class Eletric_car(Car): # car ander dalnayu say inharit ho gaya hay\n",
    "    def __init__(self,name,model):\n",
    "        super().__init__(name,model)  # is say paren class k variable k pass values jko lay jae ga\n",
    "        \n",
    "car1=Eletric_car(\"BMW\",\"2001\")\n",
    "car1.car_detail()\n",
    "\n"
   ]
  }
 ],
 "metadata": {
  "kernelspec": {
   "display_name": "Python 3",
   "language": "python",
   "name": "python3"
  },
  "language_info": {
   "codemirror_mode": {
    "name": "ipython",
    "version": 3
   },
   "file_extension": ".py",
   "mimetype": "text/x-python",
   "name": "python",
   "nbconvert_exporter": "python",
   "pygments_lexer": "ipython3",
   "version": "3.8.5"
  }
 },
 "nbformat": 4,
 "nbformat_minor": 4
}
