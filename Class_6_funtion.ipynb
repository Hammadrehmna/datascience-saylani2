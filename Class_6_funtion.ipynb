{
 "cells": [
  {
   "cell_type": "markdown",
   "metadata": {},
   "source": [
    "# Funtions / methods"
   ]
  },
  {
   "cell_type": "code",
   "execution_count": 1,
   "metadata": {},
   "outputs": [
    {
     "data": {
      "text/plain": [
       "8.0"
      ]
     },
     "execution_count": 1,
     "metadata": {},
     "output_type": "execute_result"
    }
   ],
   "source": [
    "import math\n",
    "math.pow(2,3)"
   ]
  },
  {
   "cell_type": "code",
   "execution_count": 5,
   "metadata": {},
   "outputs": [
    {
     "name": "stdout",
     "output_type": "stream",
     "text": [
      "my name is abc\n",
      "my name is xyz\n"
     ]
    }
   ],
   "source": [
    "def func_name(name):\n",
    "    a= 'my name is '+name\n",
    "    return a\n",
    "\n",
    "print(func_name('abc')) # by value\n",
    "print(func_name(name='xyz'))#by ref and  ref name same hona chahea"
   ]
  },
  {
   "cell_type": "code",
   "execution_count": 12,
   "metadata": {},
   "outputs": [
    {
     "name": "stdout",
     "output_type": "stream",
     "text": [
      "Enter value1 1\n",
      "Enter value2 2\n",
      "3\n"
     ]
    }
   ],
   "source": [
    "def add_funtion():\n",
    "    value1=int(input('Enter value1 '))\n",
    "    value2=int(input(\"Enter value2 \"))\n",
    "    \n",
    "    return value1+value2\n",
    "\n",
    "print(add_funtion())"
   ]
  },
  {
   "cell_type": "code",
   "execution_count": 15,
   "metadata": {},
   "outputs": [
    {
     "name": "stdout",
     "output_type": "stream",
     "text": [
      "Enter number1\n",
      "Enter number3\n",
      "Enter number1\n",
      "Enter number5\n",
      "Enter number8\n",
      "Enter number1\n",
      "8\n"
     ]
    }
   ],
   "source": [
    "def large_number():\n",
    "    number_list=[]\n",
    "    for x in range(6):\n",
    "        value=int(input(\"Enter number\"))\n",
    "        number_list.append(value)\n",
    "        \n",
    "    return max(number_list)\n",
    "\n",
    "print(large_number())"
   ]
  },
  {
   "cell_type": "code",
   "execution_count": 21,
   "metadata": {},
   "outputs": [
    {
     "name": "stdout",
     "output_type": "stream",
     "text": [
      "Emnter number1,50,0,90\n",
      "90\n"
     ]
    }
   ],
   "source": [
    "# other way shortest way\n",
    "def larger_num():\n",
    "    val=input('Enter number with ,').split(',')\n",
    "    return max([int(x) for x in val])\n",
    "print(larger_num())"
   ]
  },
  {
   "cell_type": "code",
   "execution_count": 40,
   "metadata": {},
   "outputs": [
    {
     "name": "stdout",
     "output_type": "stream",
     "text": [
      "Enter number6\n",
      "Even\n",
      "Enter number5\n",
      "odd\n",
      "Enter numberFalse\n"
     ]
    }
   ],
   "source": [
    "def even_odd():\n",
    "    check=True \n",
    "    while (check):\n",
    "        \n",
    "        value=input(\"Enter number\")\n",
    "        if value =='False':\n",
    "            break\n",
    "            \n",
    "        if int(value) % 2 == 0:\n",
    "            result='Even'\n",
    "            print(result)\n",
    "        else:\n",
    "            result='odd'\n",
    "            print(result)\n",
    "\n",
    "even_odd()        "
   ]
  },
  {
   "cell_type": "code",
   "execution_count": null,
   "metadata": {},
   "outputs": [],
   "source": []
  },
  {
   "cell_type": "code",
   "execution_count": 28,
   "metadata": {},
   "outputs": [
    {
     "name": "stdout",
     "output_type": "stream",
     "text": [
      "Enter number60\n",
      "my value is less then user value\n"
     ]
    }
   ],
   "source": [
    "def value_checker():\n",
    "    my_value=55\n",
    "    user_value=int(input(\"Enter number\"))\n",
    "    if my_value == user_value:\n",
    "        result = 'value are equal'\n",
    "    if my_value > user_value:\n",
    "        result = 'my value is greater then user value'\n",
    "    if my_value < user_value:\n",
    "        result = 'my value is less then user value'\n",
    "    return result\n",
    "\n",
    "print(value_checker())\n",
    "        "
   ]
  },
  {
   "cell_type": "code",
   "execution_count": 33,
   "metadata": {},
   "outputs": [
    {
     "name": "stdout",
     "output_type": "stream",
     "text": [
      "Your Fee is payed or not Select Y/Ny\n",
      "Do you have admint card Select Y/Ny\n",
      "You are allow\n"
     ]
    }
   ],
   "source": [
    "def exam_validation():\n",
    "    Fee_statue=input(\"Your Fee is payed or not Select Y/N\")\n",
    "    Card_status=input(\"Do you have admint card Select Y/N\")\n",
    "    if Card_status.upper()  and Fee_statue.upper() =='Y':\n",
    "        result='You are allowed for exams'\n",
    "    else:\n",
    "        result=\"You are not allowed for exams\"\n",
    "    return result\n",
    "print(exam_validation())\n"
   ]
  },
  {
   "cell_type": "code",
   "execution_count": 35,
   "metadata": {},
   "outputs": [
    {
     "name": "stdout",
     "output_type": "stream",
     "text": [
      "Your Fee is payed or not Select Y/NN\n",
      "You are not allowed for exams\n"
     ]
    }
   ],
   "source": [
    "# ager hamay phla sawal sahi ho to ge agay barhay ni to na jae code ko or efficent krnay k lea\n",
    "def exam_validation():\n",
    "    Fee_statue=input(\"Your Fee is payed or not Select Y/N\")\n",
    "    if Fee_statue.upper() =='Y':\n",
    "        Card_status=input(\"Do you have admint card Select Y/N\")\n",
    "        if Card_status.upper()=='Y':            \n",
    "            result='You are allowed for exams'\n",
    "        else:\n",
    "            \n",
    "            result=\"You are not allowed for exams\"        \n",
    "    else:\n",
    "        \n",
    "        result=\"You are not allowed for exams\"\n",
    "    return result\n",
    "print(exam_validation())"
   ]
  },
  {
   "cell_type": "code",
   "execution_count": null,
   "metadata": {},
   "outputs": [],
   "source": []
  }
 ],
 "metadata": {
  "kernelspec": {
   "display_name": "Python 3",
   "language": "python",
   "name": "python3"
  },
  "language_info": {
   "codemirror_mode": {
    "name": "ipython",
    "version": 3
   },
   "file_extension": ".py",
   "mimetype": "text/x-python",
   "name": "python",
   "nbconvert_exporter": "python",
   "pygments_lexer": "ipython3",
   "version": "3.8.5"
  }
 },
 "nbformat": 4,
 "nbformat_minor": 4
}
