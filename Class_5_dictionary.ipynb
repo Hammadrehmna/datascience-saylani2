{
 "cells": [
  {
   "cell_type": "markdown",
   "metadata": {},
   "source": [
    "# A list of Dictionaries"
   ]
  },
  {
   "cell_type": "code",
   "execution_count": 11,
   "metadata": {},
   "outputs": [
    {
     "data": {
      "text/plain": [
       "'B'"
      ]
     },
     "execution_count": 11,
     "metadata": {},
     "output_type": "execute_result"
    }
   ],
   "source": [
    "alist_of_dict=[ \n",
    "               {'item':[1,2,3,4],'price':[11,22,33,44]}\n",
    "               ,{'student':['A','B','C','D','E'],'rollnumber':[121,122,123,124,201]}\n",
    "              ]\n",
    "alist_of_dict[1]['student'][1]  # is say ham pphlay list k index 1may gae then 1 may dic the uski key batae then us key may again list hay to again index bataya to A uth kar agaya\n"
   ]
  },
  {
   "cell_type": "code",
   "execution_count": 15,
   "metadata": {},
   "outputs": [
    {
     "name": "stdout",
     "output_type": "stream",
     "text": [
      "121\n",
      "122\n",
      "123\n",
      "124\n",
      "201\n"
     ]
    }
   ],
   "source": [
    "# get karay gay ab rollnumber saray\n",
    "for members in alist_of_dict:\n",
    "    for key,value in members.items():\n",
    "        if key == 'rollnumber':\n",
    "            print(value)\n",
    "        \n",
    "    \n",
    "# # get karay gay ab rollnumber saray\n",
    "# for members in alist_of_dict:\n",
    "#     for key,value in members.items():\n",
    "#         if key == 'rollnumber':\n",
    "#             for x in value:\n",
    "#                 print(x)        "
   ]
  },
  {
   "cell_type": "code",
   "execution_count": 13,
   "metadata": {},
   "outputs": [
    {
     "name": "stdout",
     "output_type": "stream",
     "text": [
      "121\n",
      "122\n",
      "123\n",
      "124\n",
      "201\n"
     ]
    }
   ],
   "source": [
    "#other way\n",
    "for mem in range(len(alist_of_dict)):\n",
    "    if 'rollnumber' in alist_of_dict[mem]:\n",
    "        for rn in alist_of_dict[mem]['rollnumber']:\n",
    "            print(rn)"
   ]
  },
  {
   "cell_type": "code",
   "execution_count": 22,
   "metadata": {},
   "outputs": [
    {
     "name": "stdout",
     "output_type": "stream",
     "text": [
      "{'color': 'green', 'point': 5}\n",
      "{'color': 'red', 'point': 10}\n",
      "{'color': 'black', 'points': 15}\n"
     ]
    }
   ],
   "source": [
    "#3 alien ki alag dic hay un sab ko 1 list may dal dea hay\n",
    "alien0={'color':'green','point':5}\n",
    "alien1={'color':'red','point':10}\n",
    "alien2={'color':'black','points':15}\n",
    "alien_list = [alien0,alien1,alien2]\n",
    "for alien in alien_list:\n",
    "    print(alien)"
   ]
  },
  {
   "cell_type": "code",
   "execution_count": 35,
   "metadata": {},
   "outputs": [
    {
     "name": "stdout",
     "output_type": "stream",
     "text": [
      "[{'color': 'red', 'points': 5, 'speed': 'fast', 'point': 15}, {'color': 'red', 'points': 5, 'speed': 'fast', 'point': 15}, {'color': 'red', 'points': 5, 'speed': 'fast', 'point': 15}, {'color': 'red', 'points': 5, 'speed': 'fast', 'point': 15}, {'color': 'red', 'points': 5, 'speed': 'fast', 'point': 15}]\n",
      "total alient in my list is 30\n"
     ]
    }
   ],
   "source": [
    "# ab new dic ban kar us may 30 add kro alian or phir value update krein ay us ki\n",
    "\n",
    "list_of_alien=[]\n",
    "single_alien={\"color\":'green',\"points\":5,'speed':'slow'}\n",
    "for x in range(30):\n",
    "    list_of_alien.append(single_alien)\n",
    "\n",
    "for alien in list_of_alien[0:3]:\n",
    "    if alien['color']=='green':\n",
    "        alien['color']='yellow'\n",
    "        alien['speed']='medium'\n",
    "        alien['point']=10\n",
    "    elif alien['color'] =='yellow':\n",
    "        \n",
    "        alien['color']='red'\n",
    "        alien['speed']='fast'\n",
    "        alien['point']=15\n",
    "        \n",
    "        \n",
    "alien_ls=[x for x in list_of_alien[0:5]]\n",
    "print(alien_ls)\n",
    "\n",
    "        \n",
    "print(\"total alient in my list is \"+str(len(list_of_alien)))        "
   ]
  },
  {
   "cell_type": "code",
   "execution_count": 42,
   "metadata": {},
   "outputs": [
    {
     "name": "stdout",
     "output_type": "stream",
     "text": [
      "I have Dog and name of my pet is Tom \n",
      "\n",
      "I have Cat and name of my pet is Tomiii \n",
      "\n",
      "I have Cat and name of my pet is Tomiii \n",
      "\n"
     ]
    }
   ],
   "source": [
    "def my_pet(pet,name):\n",
    "    print(f'I have {pet.title()} and name of my pet is {name.title()} \\n')\n",
    "my_pet(\"dog\",'tom') #value passing or by value\n",
    "my_pet(pet='cat',name='tomiii')#by ref\n",
    "my_pet(pet='cat',name='tomiii')#by ref \n",
    "#my_pet(pet='cat','tomiii') # both by re by value ,msy error ae ga\n"
   ]
  },
  {
   "cell_type": "markdown",
   "metadata": {},
   "source": [
    "# nested dictionary "
   ]
  },
  {
   "cell_type": "code",
   "execution_count": 44,
   "metadata": {},
   "outputs": [
    {
     "name": "stdout",
     "output_type": "stream",
     "text": [
      "\n",
      "Username: aeinstein\n",
      "\tFull name: Albert Einstein\n",
      "\tLocation: Princeton\n",
      "\n",
      "Username: mcurie\n",
      "\tFull name: Marie Curie\n",
      "\tLocation: Paris\n"
     ]
    }
   ],
   "source": [
    "users = {    \n",
    "    'aeinstein': {'first': 'albert','last': 'einstein','location': 'princeton',},\n",
    "    'mcurie': {'first':'marie','last': 'curie','location': 'paris',},\n",
    "    }\n",
    "for username, user_info in users.items():  #yaha pay username key hay or user info value hay but value again key hay bcs ya nested dic hay`\n",
    "    \n",
    "    print(\"\\nUsername: \" + username)\n",
    "    full_name = user_info['first'] + \" \" + user_info['last']\n",
    "    location = user_info['location']\n",
    "    print(\"\\tFull name: \" + full_name.title())\n",
    "    print(\"\\tLocation: \" + location.title()) \n",
    "          "
   ]
  },
  {
   "cell_type": "code",
   "execution_count": 50,
   "metadata": {
    "scrolled": true
   },
   "outputs": [
    {
     "name": "stdout",
     "output_type": "stream",
     "text": [
      "{'saylani': {'smit': ['web', 'ds', 'ccna', 'ai'], 'health': ['opd', 'ot']}, 'univercity': {'cs': ['1st', '2nd', '3rd', '4th'], 'admin': ['fees', 'timetab', 'exams']}}\n"
     ]
    },
    {
     "data": {
      "text/plain": [
       "True"
      ]
     },
     "execution_count": 50,
     "metadata": {},
     "output_type": "execute_result"
    }
   ],
   "source": [
    "# is may nested 2 dic hay then nestid dic may list hay\n",
    "dic_of_dic={\n",
    "          'saylani':{'smit':['web','ds','ccna','ai'], 'health':['opd','ot',]},\n",
    "          'univercity':{'cs':['1st','2nd','3rd','4th'],'admin':['fees','timetab','exams']}\n",
    "    \n",
    "          }\n",
    "print(dic_of_dic)\n",
    "'smit' in dic_of_dic['saylani']\n"
   ]
  },
  {
   "cell_type": "code",
   "execution_count": 57,
   "metadata": {},
   "outputs": [
    {
     "name": "stdout",
     "output_type": "stream",
     "text": [
      "True\n",
      "True\n",
      "ok\n",
      "True\n"
     ]
    }
   ],
   "source": [
    "for parent_key,parent_value in dic_of_dic.items():\n",
    "    if parent_key ==\"univercity\":\n",
    "        for child_key,child_value in dic_of_dic[parent_key].items():\n",
    "            if child_key=='admin':\n",
    "                print('exams' in child_value)\n",
    "# other way\n",
    "for parent_key,parent_value in dic_of_dic.items():\n",
    "    if parent_key ==\"univercity\":\n",
    "        for child_key,child_value in parent_value.items():\n",
    "            if child_key=='admin':\n",
    "                print('exams' in child_value)\n",
    "# third way\n",
    "for item in dic_of_dic['univercity']['admin']:\n",
    "    if item=='exams':\n",
    "        print(\"ok\")\n",
    "        \n",
    "# forth way\n",
    "print('exams' in dic_of_dic['univercity']['admin'])"
   ]
  },
  {
   "cell_type": "markdown",
   "metadata": {},
   "source": [
    "# while loop\n"
   ]
  },
  {
   "cell_type": "code",
   "execution_count": null,
   "metadata": {},
   "outputs": [],
   "source": [
    "fvt_lang_list=[]\n",
    "for lang in range(4):\n",
    "    fvt_lang=input(\"enter your fvt lang\")\n",
    "    fvt_lsng_list.append(fvt_lang)\n",
    "print(fvt_lang)    "
   ]
  },
  {
   "cell_type": "code",
   "execution_count": 58,
   "metadata": {},
   "outputs": [
    {
     "name": "stdout",
     "output_type": "stream",
     "text": [
      "enter your fvt lang or quit to exitq\n"
     ]
    },
    {
     "ename": "NameError",
     "evalue": "name 'fvt_lsng_list' is not defined",
     "output_type": "error",
     "traceback": [
      "\u001b[1;31m---------------------------------------------------------------------------\u001b[0m",
      "\u001b[1;31mNameError\u001b[0m                                 Traceback (most recent call last)",
      "\u001b[1;32m<ipython-input-58-c1a2194f3cac>\u001b[0m in \u001b[0;36m<module>\u001b[1;34m\u001b[0m\n\u001b[0;32m      4\u001b[0m \u001b[1;33m\u001b[0m\u001b[0m\n\u001b[0;32m      5\u001b[0m     \u001b[0mfvt_lang\u001b[0m\u001b[1;33m=\u001b[0m\u001b[0minput\u001b[0m\u001b[1;33m(\u001b[0m\u001b[1;34m\"enter your fvt lang or quit to exit\"\u001b[0m\u001b[1;33m)\u001b[0m\u001b[1;33m\u001b[0m\u001b[1;33m\u001b[0m\u001b[0m\n\u001b[1;32m----> 6\u001b[1;33m     \u001b[1;32mif\u001b[0m \u001b[0mfvt_lsng_list\u001b[0m \u001b[1;33m==\u001b[0m \u001b[1;34m'exit'\u001b[0m\u001b[1;33m:\u001b[0m\u001b[1;33m\u001b[0m\u001b[1;33m\u001b[0m\u001b[0m\n\u001b[0m\u001b[0;32m      7\u001b[0m \u001b[1;33m\u001b[0m\u001b[0m\n\u001b[0;32m      8\u001b[0m         \u001b[0mfvt_lsng_list\u001b[0m\u001b[1;33m.\u001b[0m\u001b[0mappend\u001b[0m\u001b[1;33m(\u001b[0m\u001b[0mfvt_lang\u001b[0m\u001b[1;33m)\u001b[0m\u001b[1;33m\u001b[0m\u001b[1;33m\u001b[0m\u001b[0m\n",
      "\u001b[1;31mNameError\u001b[0m: name 'fvt_lsng_list' is not defined"
     ]
    }
   ],
   "source": [
    "flag=True\n",
    "fvt_lang_list=[]\n",
    "while(flag):\n",
    "    \n",
    "    fvt_lang=input(\"enter your fvt lang or quit to exit\")\n",
    "    if fvt_lang == 'exit':\n",
    "        \n",
    "        fvt_lsng_list.append(fvt_lang)\n",
    "    else:\n",
    "        fvt_lsng_list.append(fvt_lang)\n",
    "        \n",
    "    \n",
    "fvt_lang_list"
   ]
  },
  {
   "cell_type": "code",
   "execution_count": null,
   "metadata": {},
   "outputs": [],
   "source": []
  }
 ],
 "metadata": {
  "kernelspec": {
   "display_name": "Python 3",
   "language": "python",
   "name": "python3"
  },
  "language_info": {
   "codemirror_mode": {
    "name": "ipython",
    "version": 3
   },
   "file_extension": ".py",
   "mimetype": "text/x-python",
   "name": "python",
   "nbconvert_exporter": "python",
   "pygments_lexer": "ipython3",
   "version": "3.8.5"
  }
 },
 "nbformat": 4,
 "nbformat_minor": 4
}
