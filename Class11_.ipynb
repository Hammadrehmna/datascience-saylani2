{
 "cells": [
  {
   "cell_type": "code",
   "execution_count": null,
   "metadata": {},
   "outputs": [],
   "source": [
    "#over riding parent funtion to child funtion method name same rakhi 2no class may\n",
    "#python may over loading ni hoti hay\n",
    "class Student():\n",
    "    def  __init__(self,name):\n",
    "        self.name=name\n",
    "    def printt(self):\n",
    "        print(self.name)\n",
    "    def Study(self):\n",
    "        print(\"he is our student\")\n",
    "        \n",
    "class Child(Student):\n",
    "    def __init__(self,name):\n",
    "        super().__init__(name)\n",
    "    def Study(self):\n",
    "        print(\"He is not student\")\n",
    "s=Child(\"nabeel\")\n",
    "s.printt()\n",
    "Std=Student(\"nabeel\")\n",
    "Std.Study()\n",
    "s.Study()\n",
    "\n",
    "# 9-1. Restaurant: Make a class called Restaurant. The __init__() method for\n",
    "# Restaurant should store two attributes: a restaurant_name and a cuisine_type.\n",
    "# Make a method called describe_restaurant() that prints these two pieces of\n",
    "# information, and a method called open_restaurant() that prints a message indicating that the restaurant is open.\n",
    "# Make an instance called restaurant from your class. Print the two attributes individually, and then call both methods.\n",
    "\n"
   ]
  },
  {
   "cell_type": "code",
   "execution_count": 9,
   "metadata": {},
   "outputs": [],
   "source": [
    "class Resturent():\n",
    "    def __init__(self,restaurant_name,cuisine_type):\n",
    "        self.restaurant_name=restaurant_name\n",
    "        self.cuisine_type=cuisine_type\n",
    "        self.number_saver=0\n",
    "        self.manue=Manue(name=\"ab\",price=\"15\")\n",
    "    def describe_restaurant(self):\n",
    "        print(self.restaurant_name +\" \"+ self.cuisine_type)\n",
    "    def open_restaurant(self):\n",
    "        print(\"Resurent is open\")\n",
    "    def get_number_saver(self):\n",
    "        return self.number_saver\n",
    "    def set_number_saver(self,number):\n",
    "        self.number_saver=self.number_saver+number"
   ]
  },
  {
   "cell_type": "code",
   "execution_count": null,
   "metadata": {},
   "outputs": [],
   "source": []
  },
  {
   "cell_type": "code",
   "execution_count": null,
   "metadata": {},
   "outputs": [],
   "source": [
    "# 9-3. Users: Make a class called User. Create two attributes called first_name\n",
    "# and last_name, and then create several other attributes that are typically stored\n",
    "# in a user profile. Make a method called describe_user() that prints a summary\n",
    "# of the user’s information. Make another method called greet_user() that prints\n",
    "# a personalized greeting to the user.\n",
    "# Create several instances representing different users, and call both methods\n",
    "# for each user."
   ]
  },
  {
   "cell_type": "code",
   "execution_count": 10,
   "metadata": {},
   "outputs": [],
   "source": [
    "class User():\n",
    "    def __init__(self,fname,lname):\n",
    "        self.fname=fname\n",
    "        self.lname=lname\n",
    "    def user_description(self):\n",
    "        print(\"USerDetail \\n\"+self.fname+\" \"+felf.lname)\n",
    "        "
   ]
  },
  {
   "cell_type": "code",
   "execution_count": 11,
   "metadata": {},
   "outputs": [],
   "source": [
    "class Manue():\n",
    "    def __init__(self,name,price):\n",
    "        self.name=name\n",
    "        self.price=price\n",
    "    def meanu_detail(self):\n",
    "        print(f\"manue name is{self.name} and price is {self.price}\")\n",
    "        "
   ]
  },
  {
   "cell_type": "code",
   "execution_count": null,
   "metadata": {},
   "outputs": [],
   "source": [
    "# 9-4. Number Served: Start with your program from Exercise 9-1 (page 166).\n",
    "# Add an attribute called number_served with a default value of 0. Create an\n",
    "# instance called restaurant from this class. Print the number of customers the\n",
    "# restaurant has served, and then change this value and print it again.\n",
    "# Add a method called set_number_served() that lets you set the number\n",
    "# of customers that have been served. Call this method with a new number and\n",
    "# print the value again.\n",
    "# Add a method called increment_number_served() that lets you increment\n",
    "# the number of customers who’ve been served. Call this method with any number you like that could represent how many customers were served in, say, a\n",
    "# day of business."
   ]
  },
  {
   "cell_type": "code",
   "execution_count": null,
   "metadata": {},
   "outputs": [],
   "source": [
    "# object us as an attribute\n",
    "# battery ka obj create kt k as a property class may call krlo \n",
    "#ecar.battery.size\n",
    "# yani battery.sizre say jo battery ka attr as obj work kray ga or battry ki class say attr or method ajae gay"
   ]
  },
  {
   "cell_type": "code",
   "execution_count": 13,
   "metadata": {},
   "outputs": [
    {
     "name": "stdout",
     "output_type": "stream",
     "text": [
      "manue name isab and price is 15\n"
     ]
    }
   ],
   "source": [
    "rest=Resturent(\"A1\",\"open\")\n",
    "rest.manue.meanu_detail()"
   ]
  },
  {
   "cell_type": "code",
   "execution_count": null,
   "metadata": {},
   "outputs": [],
   "source": [
    "# 9-5. Login Attempts: Add an attribute called login_attempts to your User\n",
    "# class from Exercise 9-3 (page 166). Write a method called increment_\n",
    "# login_attempts() that increments the value of login_attempts by 1. Write\n",
    "# another method called reset_login_attempts() that resets the value of login_\n",
    "# attempts to 0.\n",
    "# Make an instance of the User class and call increment_login_attempts()\n",
    "# several times. Print the value of login_attempts to make sure it was incremented\n",
    "# properly, and then call reset_login_attempts(). Print login_attempts again to\n",
    "# make sure it was reset to 0."
   ]
  },
  {
   "cell_type": "code",
   "execution_count": null,
   "metadata": {},
   "outputs": [],
   "source": []
  }
 ],
 "metadata": {
  "kernelspec": {
   "display_name": "Python 3",
   "language": "python",
   "name": "python3"
  },
  "language_info": {
   "codemirror_mode": {
    "name": "ipython",
    "version": 3
   },
   "file_extension": ".py",
   "mimetype": "text/x-python",
   "name": "python",
   "nbconvert_exporter": "python",
   "pygments_lexer": "ipython3",
   "version": "3.8.5"
  }
 },
 "nbformat": 4,
 "nbformat_minor": 4
}
