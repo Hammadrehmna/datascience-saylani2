{
 "cells": [
  {
   "cell_type": "markdown",
   "metadata": {},
   "source": [
    "# Erro and Exception means is kay elawa"
   ]
  },
  {
   "cell_type": "code",
   "execution_count": null,
   "metadata": {},
   "outputs": [],
   "source": [
    "#try: catch(e)"
   ]
  },
  {
   "cell_type": "code",
   "execution_count": null,
   "metadata": {},
   "outputs": [],
   "source": [
    "# normaly code may errro ajae to wahi code ruk jata hay but kuch kar kay uskay agay ka code set krna hoga hamay\n",
    "# multiple except laga sktay hay ham single try may\n",
    "# value erro ko pakra ni is nay bcs a and b bahr thay to hamay dekhna hoga hamay k a b value bahr hay to try k ander lay ao iako\n",
    "a= int(input(\"1st num\"))\n",
    "b=int(input(\"2nd num\"))\n",
    "try:\n",
    "    c=a/b\n",
    "    print(c)\n",
    "# memory erro b s skta hay or 0 wala error b a skta hay\n",
    "except ZeroDivisionError:\n",
    "    print(\"Zaro division erro\")\n",
    "except ValueError:\n",
    "    print(\"Value error on size\")\n",
    "\n",
    "    \n",
    "# value erro ko pakra ni is nay bcs a and b bahr thay to hamay dekhna hoga hamay k a b value bahr hay to try k ander lay ao iako\n",
    "# int likha ho or ham float value dal day to b erro hay int ki jaga float likh do to b  sol ho jae ga ya issue\n",
    "try:\n",
    "    a= int(input(\"1st num\"))\n",
    "    b=int(input(\"2nd num\"))\n",
    "    c=a/b\n",
    "    print(c)\n",
    "# memory erro b s skta hay or 0 wala error b a skta hay\n",
    "except ZeroDivisionError:\n",
    "    print(\"Zaro division erro\")\n",
    "except ValueError:\n",
    "    print(\"Value error on size\")\n",
    "    "
   ]
  },
  {
   "cell_type": "code",
   "execution_count": null,
   "metadata": {},
   "outputs": [],
   "source": [
    "# is code kay last may ham nay else add kea hay takay idea k lea bs laga dea else k exception ni hay\n",
    "try:\n",
    "    a= int(input(\"1st num\"))\n",
    "    b=int(input(\"2nd num\"))\n",
    "    c=a/b\n",
    "    print(c)\n",
    "\n",
    "except ZeroDivisionError:\n",
    "    print(\"Zaro division erro\")\n",
    "except ValueError:\n",
    "    print(\"Value error on size\")\n",
    "else:\n",
    "    print(\"Nahi hay in may koe bhi error\") # exception ni ae gi to he ya code chalay ga agr erro agaya to ni chalay ga ya code"
   ]
  },
  {
   "cell_type": "code",
   "execution_count": 2,
   "metadata": {},
   "outputs": [
    {
     "name": "stdout",
     "output_type": "stream",
     "text": [
      "emnter num3.3\n",
      "3.3\n"
     ]
    }
   ],
   "source": [
    " # hamay uper waalay code k hisab say sab error pata he kr sktay hay to is issue ko sole karnay k lea general way may sol kray gay error ko\n",
    "try:\n",
    "    a= int(input(\"1st num\"))\n",
    "    b=int(input(\"2nd num\"))\n",
    "    c=a/b\n",
    "    print(c)\n",
    "except:             # har way ki exception handel ho gae bs wo batata ni hay is may k kaha error aya hay\n",
    "    print(\"Errro occure in code\")\n",
    "    \n",
    "    "
   ]
  },
  {
   "cell_type": "code",
   "execution_count": null,
   "metadata": {},
   "outputs": [],
   "source": [
    "# ab ham excetion ki class utha k uska handler lay ae gay is say hamay sath may error ka nam b pata lag jae ga\n",
    "try:\n",
    "    a= int(input(\"1st num\"))\n",
    "    b=int(input(\"2nd num\"))\n",
    "    c=a/b\n",
    "    print(c)\n",
    "except Exception as e:             # har way ki exception handel ho gae bs wo batata ni hay is may k kaha error aya hay\n",
    "    print(\"Errro occure in code ==\"+str(e))"
   ]
  },
  {
   "cell_type": "code",
   "execution_count": null,
   "metadata": {},
   "outputs": [],
   "source": [
    "try:\n",
    "    a= int(input(\"1st num\"))\n",
    "    b=int(input(\"2nd num\"))\n",
    "    c=a/b\n",
    "    print(c)\n",
    "except ZeroDivisionError:\n",
    "    print(\"0 wala error\")   # in case 0 wala error phla aya to ya necha walay exception may jae ga he ni\n",
    "except Exception as e:             \n",
    "    print(\"Errro occure in code ==\"+str(e))"
   ]
  },
  {
   "cell_type": "code",
   "execution_count": null,
   "metadata": {},
   "outputs": [],
   "source": [
    "#1 he finaly hoga jaha b ham try except lagae gay or code may error a bhi jae or handel na hoa ho to hamara code yaha say  chall jae\n",
    "try:\n",
    "    a= int(input(\"1st num\"))\n",
    "    b=int(input(\"2nd num\"))\n",
    "    c=a/b\n",
    "    print(c)\n",
    "except Exception as e:             \n",
    "    print(\"Errro occure in code ==\"+str(e))\n",
    "finally:\n",
    "    print(\"Finalt run always\") "
   ]
  },
  {
   "cell_type": "code",
   "execution_count": null,
   "metadata": {},
   "outputs": [],
   "source": [
    "# own exception\n",
    "# apni khud ki codition laga lo taka hamaray lea kam ae\n",
    "# using raise keyword and call exception class to ser our own error jus rase hoe hay abn pakrna hay eror ko to same try catch laga lo\n",
    "class student():\n",
    "    def _init_(self,name,age):\n",
    "        if age > 80 orage<16:\n",
    "            raise Exception(\"Age must be greater then 16 and less then 80\") # yaha say khud ki excetion handel ki hay\n",
    "        self.name= name\n",
    "        self.age=age\n",
    "\n",
    "try:\n",
    "    age=int(input(\"Enter your age\"))\n",
    "    name-=input(\"Enter name\")\n",
    "    st= student(\"Helloe \"+age)\n",
    "except Exception as r:\n",
    "    print(\"Exception\"+str(r))\n",
    "else:\n",
    "    print(st)"
   ]
  }
 ],
 "metadata": {
  "kernelspec": {
   "display_name": "Python 3",
   "language": "python",
   "name": "python3"
  },
  "language_info": {
   "codemirror_mode": {
    "name": "ipython",
    "version": 3
   },
   "file_extension": ".py",
   "mimetype": "text/x-python",
   "name": "python",
   "nbconvert_exporter": "python",
   "pygments_lexer": "ipython3",
   "version": "3.8.5"
  }
 },
 "nbformat": 4,
 "nbformat_minor": 4
}
