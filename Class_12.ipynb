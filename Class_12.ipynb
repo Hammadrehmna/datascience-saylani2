{
 "cells": [
  {
   "cell_type": "code",
   "execution_count": null,
   "metadata": {},
   "outputs": [],
   "source": [
    "# 9-1. Restaurant: Make a class called Restaurant. The __init__() method for\n",
    "# Restaurant should store two attributes: a restaurant_name and a cuisine_type.\n",
    "# Make a method called describe_restaurant() that prints these two pieces of\n",
    "# information, and a method called open_restaurant() that prints a message indicating that the restaurant is open.\n",
    "# Make an instance called restaurant from your class. Print the two attributes individually, and then call both methods."
   ]
  },
  {
   "cell_type": "code",
   "execution_count": 2,
   "metadata": {},
   "outputs": [],
   "source": [
    "class Resturent():\n",
    "    def __init__(self,restaurant_name,cuisine_type):\n",
    "        self.restaurant_name=restaurant_name\n",
    "        self.cuisine_type=cuisine_type\n",
    "    def describe_restaurant(self):\n",
    "        print(self.restaurant_name + \" \" + self.cuisine_type)\n",
    "    def open_restaurant(self):\n",
    "        print(\"restaurant is open\")"
   ]
  },
  {
   "cell_type": "code",
   "execution_count": null,
   "metadata": {},
   "outputs": [],
   "source": [
    "# 9-3. Users: Make a class called User. Create two attributes called first_name\n",
    "# and last_name, and then create several other attributes that are typically stored\n",
    "# in a user profile. Make a method called describe_user() that prints a summary\n",
    "# of the user’s information. Make another method called greet_user() that prints\n",
    "# a personalized greeting to the user.\n",
    "# Create several instances representing different users, and call both methods\n",
    "# for each user."
   ]
  },
  {
   "cell_type": "code",
   "execution_count": 3,
   "metadata": {},
   "outputs": [],
   "source": [
    "class User():\n",
    "    def __init__(self,name,age,job):\n",
    "        self.name = name\n",
    "        self.age = age\n",
    "        self.job = job\n",
    "    def jobType():\n",
    "        print(\"job type is \" + job)"
   ]
  },
  {
   "cell_type": "code",
   "execution_count": 1,
   "metadata": {},
   "outputs": [],
   "source": [
    "# 9-4. Number Served: Start with your program from Exercise 9-1 (page 166).\n",
    "# Add an attribute called number_served with a default value of 0. Create an\n",
    "# instance called restaurant from this class. Print the number of customers the\n",
    "# restaurant has served, and then change this value and print it again.\n",
    "# Add a method called set_number_served() that lets you set the number\n",
    "# of customers that have been served. Call this method with a new number and\n",
    "# print the value again.\n",
    "# Add a method called increment_number_served() that lets you increment\n",
    "# the number of customers who’ve been served. Call this method with any number you like that co"
   ]
  },
  {
   "cell_type": "code",
   "execution_count": null,
   "metadata": {},
   "outputs": [],
   "source": [
    "# 9-5. Login Attempts: Add an attribute called login_attempts to your User\n",
    "# class from Exercise 9-3 (page 166). Write a method called increment_\n",
    "# login_attempts() that increments the value of login_attempts by 1. Write\n",
    "# another method called reset_login_attempts() that resets the value of login_\n",
    "# attempts to 0.\n",
    "# Make an instance of the User class and call increment_login_attempts()\n",
    "# several times. Print the value of login_attempts to make sure it was incremented\n",
    "# properly, and then call reset_"
   ]
  },
  {
   "cell_type": "code",
   "execution_count": null,
   "metadata": {},
   "outputs": [],
   "source": [
    "# 9-6. Ice Cream Stand: An ice cream stand is a specific kind of restaurant. Write\n",
    "# a class called IceCreamStand that inherits from the Restaurant class you wrote\n",
    "# in Exercise 9-1 (page 166) or Exercise 9-4 (page 171). Either version of\n",
    "# the class will work; just pick the one you like better. Add an attribute called\n",
    "# flavors that stores a list of ice cream flavors. Write a method that displays\n",
    "# these flavors. Create an instance of IceCreamStand, and call this method."
   ]
  },
  {
   "cell_type": "code",
   "execution_count": 12,
   "metadata": {},
   "outputs": [],
   "source": [
    "class ice_cream_stand(Resturent):\n",
    "    flavour=[\"vanila\",\"pista\",\"chocolate\"]\n",
    "    def __init__(self,restaurant_name,cuisine_type):\n",
    "        super().__init__(restaurant_name,cuisine_type)\n",
    "    def set_flavour(self,flavour):\n",
    "        self.flavour=flavour\n",
    "    def show_flavour(self):\n",
    "        print(self.flavour)\n",
    "        \n",
    "        "
   ]
  },
  {
   "cell_type": "code",
   "execution_count": 13,
   "metadata": {},
   "outputs": [
    {
     "name": "stdout",
     "output_type": "stream",
     "text": [
      "['vanila', 'pista', 'chocolate']\n"
     ]
    }
   ],
   "source": [
    "ic=ice_cream_stand(\"ab\",\"55\")\n",
    "ic.show_flavour()"
   ]
  },
  {
   "cell_type": "code",
   "execution_count": null,
   "metadata": {},
   "outputs": [],
   "source": [
    "# 9-7. Admin: An administrator is a special kind of user. Write a class called\n",
    "# Admin that inherits from the User class you wrote in Exercise 9-3 (page 166)\n",
    "# or Exercise 9-5 (page 171). Add an attribute, privileges, that stores a list\n",
    "# of strings like \"can add post\", \"can delete post\", \"can ban user\", and so on.\n",
    "# Write a method called show_privileges() that lists the administrator’s set of\n",
    "# privileges. Create an instance of Admin, and call your method."
   ]
  },
  {
   "cell_type": "code",
   "execution_count": 35,
   "metadata": {},
   "outputs": [],
   "source": [
    "class Admin(User):\n",
    "    def __init__(self,name,age,job,privilages):\n",
    "        prev=Privileges(privilages) #yaha pay ham nay obj call kea\n",
    "        self.prev=prev.show_Privileges() # yaha say ham nay value li\n",
    "        super().__init__(name,age,job)\n",
    "    def show_prevelages(self):\n",
    "        print(self.prev)\n",
    "        "
   ]
  },
  {
   "cell_type": "code",
   "execution_count": 36,
   "metadata": {},
   "outputs": [
    {
     "name": "stdout",
     "output_type": "stream",
     "text": [
      "['can add post', 'can delete post', 'can ban user']\n"
     ]
    }
   ],
   "source": [
    "Adm=Admin(\"nabeel\",\"13\",\"admin\",[\"can add post\", \"can delete post\", \"can ban user\"])\n",
    "Adm.show_prevelages()"
   ]
  },
  {
   "cell_type": "code",
   "execution_count": null,
   "metadata": {},
   "outputs": [],
   "source": [
    "# 9-8. Privileges: Write a separate Privileges class. The class should have one\n",
    "# attribute, privileges, that stores a list of strings as described in Exercise 9-7.\n",
    "# Move the show_privileges() method to this class. Make a Privileges instance\n",
    "# as an attribute in the Admin class. Create a new instance of Admin and use your\n",
    "# method to show its privileges."
   ]
  },
  {
   "cell_type": "code",
   "execution_count": 29,
   "metadata": {},
   "outputs": [],
   "source": [
    "class Privileges():\n",
    "    def __init__(self,privilages):\n",
    "        self.prev=privilages\n",
    "    def show_Privileges(self):\n",
    "        return self.prev\n",
    "    "
   ]
  }
 ],
 "metadata": {
  "kernelspec": {
   "display_name": "Python 3",
   "language": "python",
   "name": "python3"
  },
  "language_info": {
   "codemirror_mode": {
    "name": "ipython",
    "version": 3
   },
   "file_extension": ".py",
   "mimetype": "text/x-python",
   "name": "python",
   "nbconvert_exporter": "python",
   "pygments_lexer": "ipython3",
   "version": "3.8.5"
  }
 },
 "nbformat": 4,
 "nbformat_minor": 4
}
