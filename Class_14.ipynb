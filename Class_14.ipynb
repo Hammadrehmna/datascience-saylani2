{
 "cells": [
  {
   "cell_type": "markdown",
   "metadata": {},
   "source": [
    "# "
   ]
  },
  {
   "cell_type": "code",
   "execution_count": null,
   "metadata": {},
   "outputs": [],
   "source": [
    "# numpy\n",
    "# pandas: analysis parha gay  {funnel,ab testing , churn analysis, etc..}\n",
    "# statistic:{ univariabletendency, bivariant, probability}\n",
    "# ml:sckit learn svm, xghoast randomforest\n",
    "# deep learning: neural network,regression nlp,compuer vision,\n",
    "#     aws cloude service say model say khud ham kam kr sktay  hay\n",
    "# aws\n",
    "#web framework  {flask,django} \n",
    "\n",
    "\n",
    "#     cloude imp hay aws amazon web  services\n",
    "#     herocu?\n",
    "# ec2 instance -> aws pay banatay taka jitni speed ki need ho utin jaga mill jae load ziada ho to khud instance barha lay gay ham\n",
    "# aws sage khud say sab kar k dayta hay modeling coding etc ya service hay aws ki\n",
    "# se3 inatance storage instance\n",
    "# mvc(model view template)\n",
    "#_> view controll kray ga or template controll kray ga"
   ]
  },
  {
   "cell_type": "code",
   "execution_count": null,
   "metadata": {},
   "outputs": [],
   "source": []
  }
 ],
 "metadata": {
  "kernelspec": {
   "display_name": "Python 3",
   "language": "python",
   "name": "python3"
  },
  "language_info": {
   "codemirror_mode": {
    "name": "ipython",
    "version": 3
   },
   "file_extension": ".py",
   "mimetype": "text/x-python",
   "name": "python",
   "nbconvert_exporter": "python",
   "pygments_lexer": "ipython3",
   "version": "3.8.5"
  }
 },
 "nbformat": 4,
 "nbformat_minor": 4
}
