{
 "cells": [
  {
   "cell_type": "code",
   "execution_count": 9,
   "metadata": {},
   "outputs": [
    {
     "name": "stdout",
     "output_type": "stream",
     "text": [
      "{'name': 'hammad', 'album': '333'}\n"
     ]
    }
   ],
   "source": [
    "def make_album(artist_name,album_title):\n",
    "  \n",
    "    person = {'name': artist_name, 'album': album_title}\n",
    "    print(person)\n",
    "make_album(\"hammad\",\"333\")"
   ]
  },
  {
   "cell_type": "code",
   "execution_count": 10,
   "metadata": {},
   "outputs": [],
   "source": [
    "#sir\n",
    "def make_album(artist_name,album_title):\n",
    "    person = {'artist_name': artist_name, 'album_title': album_title}\n",
    "    return person    \n",
    "    "
   ]
  },
  {
   "cell_type": "code",
   "execution_count": 11,
   "metadata": {},
   "outputs": [
    {
     "data": {
      "text/plain": [
       "{'artist_name': 'hammad', 'album_title': '555'}"
      ]
     },
     "execution_count": 11,
     "metadata": {},
     "output_type": "execute_result"
    }
   ],
   "source": [
    "make_album(\"hammad\" , \"555\")"
   ]
  },
  {
   "cell_type": "code",
   "execution_count": 12,
   "metadata": {},
   "outputs": [],
   "source": [
    "album_1 = make_album(\"sami\",\"33\")"
   ]
  },
  {
   "cell_type": "code",
   "execution_count": 13,
   "metadata": {},
   "outputs": [],
   "source": [
    "album_2 = make_album(\"zia\",\"999\")"
   ]
  },
  {
   "cell_type": "code",
   "execution_count": 14,
   "metadata": {},
   "outputs": [
    {
     "data": {
      "text/plain": [
       "{'artist_name': {'artist_name': 'sami', 'album_title': '33'},\n",
       " 'album_title': {'artist_name': 'zia', 'album_title': '999'}}"
      ]
     },
     "execution_count": 14,
     "metadata": {},
     "output_type": "execute_result"
    }
   ],
   "source": [
    "make_album(album_1,album_2)"
   ]
  },
  {
   "cell_type": "code",
   "execution_count": 15,
   "metadata": {},
   "outputs": [],
   "source": [
    "def make_album(artist_name,album_title,trackes = \" \"):\n",
    "    person = {'artist_name': artist_name, 'album_title': album_title}\n",
    "    if trackes:\n",
    "        person['trackes'] = trackes\n",
    "    return person"
   ]
  },
  {
   "cell_type": "code",
   "execution_count": 16,
   "metadata": {},
   "outputs": [],
   "source": [
    "album_1 = make_album(\"sami\",\"33\",12)\n",
    "album_2 = make_album(\"zia\",\"999\")"
   ]
  },
  {
   "cell_type": "code",
   "execution_count": 17,
   "metadata": {},
   "outputs": [
    {
     "name": "stdout",
     "output_type": "stream",
     "text": [
      "{'artist_name': 'sami', 'album_title': '33', 'trackes': 12} {'artist_name': 'zia', 'album_title': '999', 'trackes': ' '}\n"
     ]
    }
   ],
   "source": [
    "print(album_1,album_2)"
   ]
  },
  {
   "cell_type": "code",
   "execution_count": 18,
   "metadata": {},
   "outputs": [
    {
     "data": {
      "text/plain": [
       "{'name': 'hammad', 'num': 41}"
      ]
     },
     "execution_count": 18,
     "metadata": {},
     "output_type": "execute_result"
    }
   ],
   "source": [
    "def player(name,num):\n",
    "    dic = {\"name\":name,\"num\":num}\n",
    "    return dic\n",
    "player(\"hammad\",41)"
   ]
  },
  {
   "cell_type": "code",
   "execution_count": 19,
   "metadata": {},
   "outputs": [],
   "source": [
    "player_1 = player(\"sami\",99)\n"
   ]
  },
  {
   "cell_type": "code",
   "execution_count": 20,
   "metadata": {},
   "outputs": [],
   "source": [
    "player_2 = player(\"ebad\",45)"
   ]
  },
  {
   "cell_type": "code",
   "execution_count": 21,
   "metadata": {},
   "outputs": [
    {
     "name": "stdout",
     "output_type": "stream",
     "text": [
      "{'name': 'sami', 'num': 99} {'name': 'ebad', 'num': 45}\n"
     ]
    }
   ],
   "source": [
    "\n",
    "print(player_1,player_2)"
   ]
  },
  {
   "cell_type": "code",
   "execution_count": 22,
   "metadata": {},
   "outputs": [
    {
     "data": {
      "text/plain": [
       "{'name': 'hammad', 'num': 41, 'hight': ' '}"
      ]
     },
     "execution_count": 22,
     "metadata": {},
     "output_type": "execute_result"
    }
   ],
   "source": [
    "def player(name,num,hight=\" \"):\n",
    "    dic = {\"name\":name,\"num\":num}\n",
    "    if hight:\n",
    "        dic['hight'] = hight\n",
    "    return dic\n",
    "player(\"hammad\",41)"
   ]
  },
  {
   "cell_type": "code",
   "execution_count": 23,
   "metadata": {},
   "outputs": [],
   "source": [
    "player_1 = player(\"sami\",99,6.5)\n",
    "player_2 = player(\"ebad\",45,5.4)\n",
    "player_3 = player(\"ebad\",45)"
   ]
  },
  {
   "cell_type": "code",
   "execution_count": 24,
   "metadata": {},
   "outputs": [
    {
     "name": "stdout",
     "output_type": "stream",
     "text": [
      "{'name': 'sami', 'num': 99, 'hight': 6.5} {'name': 'ebad', 'num': 45, 'hight': 5.4} {'name': 'ebad', 'num': 45, 'hight': ' '}\n"
     ]
    }
   ],
   "source": [
    "print(player_1,player_2,player_3)"
   ]
  },
  {
   "cell_type": "code",
   "execution_count": 25,
   "metadata": {},
   "outputs": [],
   "source": [
    "dicti = {}\n",
    "def make_album(artist_name,album_title,trackes):\n",
    "    \n",
    "    while True:\n",
    "        artist = input(\"enter a artist name\")\n",
    "        album = input(\"enter a album\")\n",
    "        trackes = int(input(\"enter a num\"))\n",
    "        user = input(\"cont to yes r exit to no\")\n",
    "        if user == \"exit\":\n",
    "            break\n",
    "       \n",
    "        if artist:\n",
    "            dicti[\"artist\"] = artist\n",
    "        if album:\n",
    "            dicti[\"album\"] = album\n",
    "        if trackes:\n",
    "            dicti[\"trackes\"] = trackes\n",
    "        \n",
    "    return dicti"
   ]
  },
  {
   "cell_type": "code",
   "execution_count": 26,
   "metadata": {},
   "outputs": [
    {
     "name": "stdout",
     "output_type": "stream",
     "text": [
      "enter a artist name\n",
      "enter a album\n",
      "enter a num\n"
     ]
    },
    {
     "ename": "ValueError",
     "evalue": "invalid literal for int() with base 10: ''",
     "output_type": "error",
     "traceback": [
      "\u001b[1;31m---------------------------------------------------------------------------\u001b[0m",
      "\u001b[1;31mValueError\u001b[0m                                Traceback (most recent call last)",
      "\u001b[1;32m<ipython-input-26-9366c0095dd2>\u001b[0m in \u001b[0;36m<module>\u001b[1;34m\u001b[0m\n\u001b[1;32m----> 1\u001b[1;33m \u001b[0mmake_album\u001b[0m\u001b[1;33m(\u001b[0m\u001b[1;34m\"hammad\"\u001b[0m\u001b[1;33m,\u001b[0m\u001b[1;36m55\u001b[0m\u001b[1;33m,\u001b[0m\u001b[1;36m55\u001b[0m\u001b[1;33m)\u001b[0m\u001b[1;33m\u001b[0m\u001b[1;33m\u001b[0m\u001b[0m\n\u001b[0m\u001b[0;32m      2\u001b[0m \u001b[1;33m\u001b[0m\u001b[0m\n\u001b[0;32m      3\u001b[0m \u001b[1;33m\u001b[0m\u001b[0m\n\u001b[0;32m      4\u001b[0m \u001b[1;33m\u001b[0m\u001b[0m\n\u001b[0;32m      5\u001b[0m \u001b[1;33m\u001b[0m\u001b[0m\n",
      "\u001b[1;32m<ipython-input-25-8e05b9fbca57>\u001b[0m in \u001b[0;36mmake_album\u001b[1;34m(artist_name, album_title, trackes)\u001b[0m\n\u001b[0;32m      5\u001b[0m         \u001b[0martist\u001b[0m \u001b[1;33m=\u001b[0m \u001b[0minput\u001b[0m\u001b[1;33m(\u001b[0m\u001b[1;34m\"enter a artist name\"\u001b[0m\u001b[1;33m)\u001b[0m\u001b[1;33m\u001b[0m\u001b[1;33m\u001b[0m\u001b[0m\n\u001b[0;32m      6\u001b[0m         \u001b[0malbum\u001b[0m \u001b[1;33m=\u001b[0m \u001b[0minput\u001b[0m\u001b[1;33m(\u001b[0m\u001b[1;34m\"enter a album\"\u001b[0m\u001b[1;33m)\u001b[0m\u001b[1;33m\u001b[0m\u001b[1;33m\u001b[0m\u001b[0m\n\u001b[1;32m----> 7\u001b[1;33m         \u001b[0mtrackes\u001b[0m \u001b[1;33m=\u001b[0m \u001b[0mint\u001b[0m\u001b[1;33m(\u001b[0m\u001b[0minput\u001b[0m\u001b[1;33m(\u001b[0m\u001b[1;34m\"enter a num\"\u001b[0m\u001b[1;33m)\u001b[0m\u001b[1;33m)\u001b[0m\u001b[1;33m\u001b[0m\u001b[1;33m\u001b[0m\u001b[0m\n\u001b[0m\u001b[0;32m      8\u001b[0m         \u001b[0muser\u001b[0m \u001b[1;33m=\u001b[0m \u001b[0minput\u001b[0m\u001b[1;33m(\u001b[0m\u001b[1;34m\"cont to yes r exit to no\"\u001b[0m\u001b[1;33m)\u001b[0m\u001b[1;33m\u001b[0m\u001b[1;33m\u001b[0m\u001b[0m\n\u001b[0;32m      9\u001b[0m         \u001b[1;32mif\u001b[0m \u001b[0muser\u001b[0m \u001b[1;33m==\u001b[0m \u001b[1;34m\"exit\"\u001b[0m\u001b[1;33m:\u001b[0m\u001b[1;33m\u001b[0m\u001b[1;33m\u001b[0m\u001b[0m\n",
      "\u001b[1;31mValueError\u001b[0m: invalid literal for int() with base 10: ''"
     ]
    }
   ],
   "source": [
    "make_album(\"hammad\",55,55)\n",
    "\n",
    "\n",
    "\n",
    "\n",
    "for i in dicti:\n",
    "    print(i)"
   ]
  },
  {
   "cell_type": "code",
   "execution_count": 27,
   "metadata": {},
   "outputs": [],
   "source": [
    "def salary_calculator(basic_salary):\n",
    "    tax_ded = 0\n",
    "    if basic_salary < 30000:\n",
    "        tax_ded = 0\n",
    "    elif basic_salary >= 30000 and basic_salary < 50000:\n",
    "        tax_ded = 5\n",
    "    elif basic_salary >= 50000 and basic_salary < 100000:\n",
    "        tax_ded = 10\n",
    "    else:\n",
    "        tax_ded = 15\n",
    "    total_ded =  basic_salary * tax_ded /100\n",
    "    grows_salary = basic_salary - total_ded\n",
    "    return grows_salary"
   ]
  },
  {
   "cell_type": "code",
   "execution_count": 28,
   "metadata": {},
   "outputs": [
    {
     "name": "stdout",
     "output_type": "stream",
     "text": [
      "enter a basic salary of employ\n"
     ]
    },
    {
     "ename": "ValueError",
     "evalue": "invalid literal for int() with base 10: ''",
     "output_type": "error",
     "traceback": [
      "\u001b[1;31m---------------------------------------------------------------------------\u001b[0m",
      "\u001b[1;31mValueError\u001b[0m                                Traceback (most recent call last)",
      "\u001b[1;32m<ipython-input-28-ac373a7ba56d>\u001b[0m in \u001b[0;36m<module>\u001b[1;34m\u001b[0m\n\u001b[0;32m      1\u001b[0m \u001b[0mbasic_salary\u001b[0m \u001b[1;33m=\u001b[0m \u001b[0minput\u001b[0m\u001b[1;33m(\u001b[0m\u001b[1;34m\"enter a basic salary of employ\"\u001b[0m\u001b[1;33m)\u001b[0m\u001b[1;33m\u001b[0m\u001b[1;33m\u001b[0m\u001b[0m\n\u001b[1;32m----> 2\u001b[1;33m \u001b[0mbasic_salary\u001b[0m \u001b[1;33m=\u001b[0m \u001b[0mint\u001b[0m\u001b[1;33m(\u001b[0m\u001b[0mbasic_salary\u001b[0m\u001b[1;33m)\u001b[0m\u001b[1;33m\u001b[0m\u001b[1;33m\u001b[0m\u001b[0m\n\u001b[0m\u001b[0;32m      3\u001b[0m \u001b[1;33m\u001b[0m\u001b[0m\n\u001b[0;32m      4\u001b[0m \u001b[1;33m\u001b[0m\u001b[0m\n\u001b[0;32m      5\u001b[0m \u001b[1;33m\u001b[0m\u001b[0m\n",
      "\u001b[1;31mValueError\u001b[0m: invalid literal for int() with base 10: ''"
     ]
    }
   ],
   "source": [
    "basic_salary = input(\"enter a basic salary of employ\")\n",
    "basic_salary = int(basic_salary)\n",
    "\n",
    "\n",
    "\n",
    "\n",
    "grows_salary=salary_calculator(basic_salary)\n",
    "print(f\"the grows salary of the employ is {grows_salary}\")"
   ]
  },
  {
   "cell_type": "code",
   "execution_count": 29,
   "metadata": {},
   "outputs": [],
   "source": [
    "def text_cal():\n",
    "    tax_ded = 0\n",
    "    if basic_salary < 30000:\n",
    "        tax_ded = 0\n",
    "    elif basic_salary >= 30000 and basic_salary < 50000:\n",
    "        tax_ded = 5\n",
    "    elif basic_salary >= 50000 and basic_salary < 100000:\n",
    "        tax_ded = 10\n",
    "    else:\n",
    "        tax_ded = 15\n",
    "    total_ded = text_cal(basic_salary)\n",
    "    return total_ded"
   ]
  },
  {
   "cell_type": "code",
   "execution_count": 30,
   "metadata": {},
   "outputs": [],
   "source": [
    "def salary_calculator(basic_salary):\n",
    "    grows_salary = basic_salary - text_cal(basic_salary)\n",
    "    return grows_salary\n",
    "def text_cal(basic_salary):\n",
    "    tax_ded = 0\n",
    "    if basic_salary < 30000:\n",
    "        tax_ded = 0\n",
    "    elif basic_salary >= 30000 and basic_salary < 50000:\n",
    "        tax_ded = 5\n",
    "    elif basic_salary >= 50000 and basic_salary < 100000:\n",
    "        tax_ded = 10\n",
    "    else:\n",
    "        tax_ded = 15\n",
    "    tot_tax = basic_salary * tax_ded /100\n",
    "    return tot_tax\n",
    "    \n",
    "    "
   ]
  },
  {
   "cell_type": "code",
   "execution_count": 31,
   "metadata": {},
   "outputs": [
    {
     "name": "stdout",
     "output_type": "stream",
     "text": [
      "enter a salary\n"
     ]
    },
    {
     "ename": "ValueError",
     "evalue": "invalid literal for int() with base 10: ''",
     "output_type": "error",
     "traceback": [
      "\u001b[1;31m---------------------------------------------------------------------------\u001b[0m",
      "\u001b[1;31mValueError\u001b[0m                                Traceback (most recent call last)",
      "\u001b[1;32m<ipython-input-31-fd7f537731c2>\u001b[0m in \u001b[0;36m<module>\u001b[1;34m\u001b[0m\n\u001b[1;32m----> 1\u001b[1;33m \u001b[0mbasic_salary\u001b[0m \u001b[1;33m=\u001b[0m \u001b[0mint\u001b[0m\u001b[1;33m(\u001b[0m\u001b[0minput\u001b[0m\u001b[1;33m(\u001b[0m\u001b[1;34m\"enter a salary\"\u001b[0m\u001b[1;33m)\u001b[0m\u001b[1;33m)\u001b[0m\u001b[1;33m\u001b[0m\u001b[1;33m\u001b[0m\u001b[0m\n\u001b[0m\u001b[0;32m      2\u001b[0m \u001b[0mgross_salary\u001b[0m\u001b[1;33m=\u001b[0m\u001b[0msalary_calculator\u001b[0m\u001b[1;33m(\u001b[0m\u001b[0mbasic_salary\u001b[0m\u001b[1;33m)\u001b[0m\u001b[1;33m\u001b[0m\u001b[1;33m\u001b[0m\u001b[0m\n\u001b[0;32m      3\u001b[0m \u001b[0mprint\u001b[0m\u001b[1;33m(\u001b[0m\u001b[0mgross_salary\u001b[0m\u001b[1;33m)\u001b[0m\u001b[1;33m\u001b[0m\u001b[1;33m\u001b[0m\u001b[0m\n",
      "\u001b[1;31mValueError\u001b[0m: invalid literal for int() with base 10: ''"
     ]
    }
   ],
   "source": [
    "basic_salary = int(input(\"enter a salary\"))\n",
    "gross_salary=salary_calculator(basic_salary)\n",
    "print(gross_salary)"
   ]
  },
  {
   "cell_type": "code",
   "execution_count": null,
   "metadata": {},
   "outputs": [],
   "source": []
  },
  {
   "cell_type": "code",
   "execution_count": null,
   "metadata": {},
   "outputs": [],
   "source": []
  }
 ],
 "metadata": {
  "kernelspec": {
   "display_name": "Python 3",
   "language": "python",
   "name": "python3"
  },
  "language_info": {
   "codemirror_mode": {
    "name": "ipython",
    "version": 3
   },
   "file_extension": ".py",
   "mimetype": "text/x-python",
   "name": "python",
   "nbconvert_exporter": "python",
   "pygments_lexer": "ipython3",
   "version": "3.8.5"
  }
 },
 "nbformat": 4,
 "nbformat_minor": 4
}
