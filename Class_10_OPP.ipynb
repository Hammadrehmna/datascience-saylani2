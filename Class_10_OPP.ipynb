{
 "cells": [
  {
   "cell_type": "markdown",
   "metadata": {},
   "source": [
    "# Class"
   ]
  },
  {
   "cell_type": "code",
   "execution_count": 5,
   "metadata": {},
   "outputs": [],
   "source": [
    "# pass  --> say error ni ata hay or class same rahti hay\n",
    "class Computer():\n",
    "    pass"
   ]
  },
  {
   "cell_type": "code",
   "execution_count": 14,
   "metadata": {},
   "outputs": [],
   "source": [
    "# init kay bagar bhi ham property bana sktay hay\n",
    "class Computer():\n",
    "    def __init__(self): # construtor/ initializer hay\n",
    "        self.manufature=\"lenove\"    # all varibale are property \n",
    "        self.model=\"independent\"\n",
    "        print(\"i am construtor\")\n",
    "    #behaviour / funtions\n",
    "    def showconfig(self):\n",
    "        print(\"2.2.0\"+self.model)\n",
    "        "
   ]
  },
  {
   "cell_type": "code",
   "execution_count": 15,
   "metadata": {},
   "outputs": [
    {
     "name": "stdout",
     "output_type": "stream",
     "text": [
      "i am construtor\n",
      "2.2.0independent\n",
      "2.2.0new\n"
     ]
    }
   ],
   "source": [
    "#obj create hoa hay yaha pay\n",
    "com=Computer()\n",
    "#calling funtion after creating obj\n",
    "com.showconfig()\n",
    "com.model=\"new\" # calling attribute\n",
    "com.showconfig()"
   ]
  },
  {
   "cell_type": "code",
   "execution_count": 29,
   "metadata": {},
   "outputs": [],
   "source": [
    "\n",
    "class Computer1():\n",
    "    def __init__(self,processor,ram,drive):\n",
    "        self.manufature=\"lenove\" \n",
    "        self.model=\"independent\"\n",
    "        self.processor=processor\n",
    "        self.ram=ram\n",
    "        self.drive=drive\n",
    "        print(\"i am construtor\")\n",
    "    #behaviour / funtions\n",
    "    def showconfig(self): # ya wala self dekh raaha hay kay mujha kon sa wala ob call kar raha hay us hisab say ref jae ga or value lay kar ae ga\n",
    "        print(self.processor,self.drive,self.ram)\n",
    "        "
   ]
  },
  {
   "cell_type": "code",
   "execution_count": 30,
   "metadata": {},
   "outputs": [
    {
     "name": "stdout",
     "output_type": "stream",
     "text": [
      "i am construtor\n",
      "corei9 10TB 64\n"
     ]
    }
   ],
   "source": [
    "newcomp=Computer1(\"corei9\",\"64\",\"10TB\")\n",
    "newcomp.showconfig()"
   ]
  },
  {
   "cell_type": "code",
   "execution_count": null,
   "metadata": {},
   "outputs": [],
   "source": []
  }
 ],
 "metadata": {
  "kernelspec": {
   "display_name": "Python 3",
   "language": "python",
   "name": "python3"
  },
  "language_info": {
   "codemirror_mode": {
    "name": "ipython",
    "version": 3
   },
   "file_extension": ".py",
   "mimetype": "text/x-python",
   "name": "python",
   "nbconvert_exporter": "python",
   "pygments_lexer": "ipython3",
   "version": "3.8.5"
  }
 },
 "nbformat": 4,
 "nbformat_minor": 4
}
